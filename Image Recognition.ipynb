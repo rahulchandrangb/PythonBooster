{
 "cells": [
  {
   "cell_type": "code",
   "execution_count": 1,
   "metadata": {
    "collapsed": true
   },
   "outputs": [],
   "source": [
    "# Read cifar-10 dataset\n",
    "\n",
    "\n",
    "\n",
    "import numpy as np\n",
    "import cPickle\n",
    "\n",
    "cifar_10_location=\"/Users/rahulchandran/rahul/rahul_datasets/dl/cifar/cifar-10-batches-py/\"\n",
    "train_files =[cifar_10_location+x for x in  \"data_batch_1 data_batch_2 data_batch_3 data_batch_4 data_batch_5\".split(\" \")]\n",
    "test_batch = cifar_10_location+\"test_batch\"\n",
    "\n",
    "\n",
    "def unpickle(filename):\n",
    "    fo =  open(filename,'rb')\n",
    "    dictSet = cPickle.load(fo)\n",
    "    fo.close()\n",
    "    return dictSet\n",
    "\n",
    "def loadCIFAR10(trainFiles=train_files,testFile=test_batch):\n",
    "    dictDataList =  None\n",
    "    dictLabelList = None\n",
    "    for testBin in trainFiles:\n",
    "        dictSing = unpickle(testBin)\n",
    "        if dictDataList is None:\n",
    "            dictDataList = dictSing['data']\n",
    "            dictLableList = dictSing['labels']\n",
    "        else:\n",
    "            dictDataList = np.concatenate((dictDataList, dictSing['data']),axis=0)\n",
    "            dictLabelList = np.concatenate((dictLableList, dictSing['labels']),axis=0)\n",
    "    dictTest = unpickle(testFile)\n",
    "    dictTestData = dictTest['data']\n",
    "    dictTestLabel = dictTest['labels']\n",
    "    return (dictDataList,dictLabelList,dictTestData,dictTestLabel)\n",
    "\n",
    "xTrainData, xTrainLabel, xTestData, xTestlabel = loadCIFAR10(train_files,test_batch)"
   ]
  },
  {
   "cell_type": "code",
   "execution_count": null,
   "metadata": {
    "collapsed": true
   },
   "outputs": [],
   "source": [
    "#Apply KNN for dataset and see closer images"
   ]
  },
  {
   "cell_type": "code",
   "execution_count": null,
   "metadata": {
    "collapsed": true
   },
   "outputs": [],
   "source": [
    "#Apply Linear regression for dataset and see how output comes"
   ]
  },
  {
   "cell_type": "code",
   "execution_count": null,
   "metadata": {
    "collapsed": true
   },
   "outputs": [],
   "source": [
    "#plot and see the weight matrix to get an illusion of what's happening, How the learning is going on and all..."
   ]
  }
 ],
 "metadata": {
  "kernelspec": {
   "display_name": "Python 2",
   "language": "python",
   "name": "python2"
  },
  "language_info": {
   "codemirror_mode": {
    "name": "ipython",
    "version": 2
   },
   "file_extension": ".py",
   "mimetype": "text/x-python",
   "name": "python",
   "nbconvert_exporter": "python",
   "pygments_lexer": "ipython2",
   "version": "2.7.11"
  }
 },
 "nbformat": 4,
 "nbformat_minor": 0
}
